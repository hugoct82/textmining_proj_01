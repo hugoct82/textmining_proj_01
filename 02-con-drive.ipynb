{
 "cells": [
  {
   "cell_type": "markdown",
   "metadata": {},
   "source": [
    "### Primera versión de prueba de conexión gdrive\n",
    "\n",
    "NO CORRER"
   ]
  },
  {
   "cell_type": "code",
   "execution_count": 1,
   "metadata": {},
   "outputs": [
    {
     "name": "stdout",
     "output_type": "stream",
     "text": [
      "Please visit this URL to authorize this application: https://accounts.google.com/o/oauth2/auth?response_type=code&client_id=714287611170-vgk4sfc7gqhg9monrjgc6hf66r74cqfj.apps.googleusercontent.com&redirect_uri=http%3A%2F%2Flocalhost%3A48883%2F&scope=https%3A%2F%2Fwww.googleapis.com%2Fauth%2Fdrive.file&state=588sr34zPWPv3TTPAg4jK6B7TX7SEA&access_type=offline\n",
      "Abriendo en una sesión existente del navegador\n"
     ]
    },
    {
     "name": "stderr",
     "output_type": "stream",
     "text": [
      "/snap/core20/current/lib/x86_64-linux-gnu/libstdc++.so.6: version `GLIBCXX_3.4.29' not found (required by /lib/x86_64-linux-gnu/libproxy.so.1)\n",
      "Failed to load module: /home/hugo/snap/code/common/.cache/gio-modules/libgiolibproxy.so\n"
     ]
    }
   ],
   "source": [
    "from google_auth_oauthlib.flow import InstalledAppFlow\n",
    "from googleapiclient.discovery import build\n",
    "\n",
    "# Definir el scope\n",
    "SCOPES = ['https://www.googleapis.com/auth/drive.file']\n",
    "\n",
    "# Ruta al archivo de credenciales descargado\n",
    "CREDENTIALS_FILE = './credenciales/client_secret_714287611170-vgk4sfc7gqhg9monrjgc6hf66r74cqfj.apps.googleusercontent.com.json'\n",
    "\n",
    "def authenticate_gdrive():\n",
    "    flow = InstalledAppFlow.from_client_secrets_file(CREDENTIALS_FILE, SCOPES)\n",
    "    creds = flow.run_local_server(port=0)  # Autenticación mediante un servidor local\n",
    "    return creds\n",
    "\n",
    "# Construye el servicio de Google Drive utilizando las credenciales\n",
    "service = build('drive', 'v3', credentials=authenticate_gdrive())\n",
    "\n",
    "# Ahora puedes usar 'service' para interactuar con Google Drive"
   ]
  },
  {
   "cell_type": "markdown",
   "metadata": {},
   "source": [
    "### Versión que autentica, crea carpera y sube\n",
    "\n",
    "Sin control si lo que hay está subido\n",
    "\n",
    "NO CORRER"
   ]
  },
  {
   "cell_type": "code",
   "execution_count": 1,
   "metadata": {},
   "outputs": [],
   "source": [
    "from googleapiclient.discovery import build\n",
    "from google_auth_oauthlib.flow import InstalledAppFlow\n",
    "from googleapiclient.http import MediaFileUpload\n",
    "import os\n",
    "\n",
    "# Definir el scope\n",
    "SCOPES = ['https://www.googleapis.com/auth/drive']\n",
    "CREDENTIALS_FILE = './credenciales/client_secret_714287611170-vgk4sfc7gqhg9monrjgc6hf66r74cqfj.apps.googleusercontent.com.json'\n",
    "\n",
    "def authenticate_gdrive():\n",
    "    flow = InstalledAppFlow.from_client_secrets_file(CREDENTIALS_FILE, SCOPES)\n",
    "    creds = flow.run_local_server(port=0)\n",
    "    return build('drive', 'v3', credentials=creds)\n",
    "\n",
    "def create_or_find_folder(service, folder_name, parent_id=None):\n",
    "    query = f\"mimeType='application/vnd.google-apps.folder' and name='{folder_name}'\"\n",
    "    if parent_id:\n",
    "        query += f\" and '{parent_id}' in parents\"\n",
    "    results = service.files().list(q=query, spaces='drive', fields=\"files(id, name)\").execute()\n",
    "    folders = results.get('files', [])\n",
    "\n",
    "    if not folders:\n",
    "        folder_metadata = {\n",
    "            'name': folder_name,\n",
    "            'mimeType': 'application/vnd.google-apps.folder',\n",
    "            'parents': [parent_id] if parent_id else []\n",
    "        }\n",
    "        folder = service.files().create(body=folder_metadata, fields='id').execute()\n",
    "        return folder.get('id')\n",
    "    return folders[0].get('id')\n",
    "\n",
    "def upload_files(service, folder_path, drive_folder_id):\n",
    "    for filename in os.listdir(folder_path):\n",
    "        file_path = os.path.join(folder_path, filename)\n",
    "        if os.path.isfile(file_path):\n",
    "            file_metadata = {\n",
    "                'name': filename,\n",
    "                'parents': [drive_folder_id]\n",
    "            }\n",
    "            media = MediaFileUpload(file_path, resumable=True)\n",
    "            file = service.files().create(body=file_metadata, media_body=media, fields='id').execute()\n",
    "            print(f'Uploaded {filename} to Google Drive with File ID: {file.get(\"id\")}')\n"
   ]
  },
  {
   "cell_type": "markdown",
   "metadata": {},
   "source": [
    "### Versión final\n",
    "\n",
    "Autentica, crea carpeta y genera el servicio"
   ]
  },
  {
   "cell_type": "code",
   "execution_count": 2,
   "metadata": {},
   "outputs": [
    {
     "name": "stdout",
     "output_type": "stream",
     "text": [
      "Please visit this URL to authorize this application: https://accounts.google.com/o/oauth2/auth?response_type=code&client_id=714287611170-vgk4sfc7gqhg9monrjgc6hf66r74cqfj.apps.googleusercontent.com&redirect_uri=http%3A%2F%2Flocalhost%3A36881%2F&scope=https%3A%2F%2Fwww.googleapis.com%2Fauth%2Fdrive.file&state=UtWzmEHt6V9pG0v5MYrZsGFExsTnGc&access_type=offline\n",
      "Abriendo en una sesión existente del navegador\n"
     ]
    },
    {
     "name": "stderr",
     "output_type": "stream",
     "text": [
      "/snap/core20/current/lib/x86_64-linux-gnu/libstdc++.so.6: version `GLIBCXX_3.4.29' not found (required by /lib/x86_64-linux-gnu/libproxy.so.1)\n",
      "Failed to load module: /home/hugo/snap/code/common/.cache/gio-modules/libgiolibproxy.so\n"
     ]
    }
   ],
   "source": [
    "from googleapiclient.discovery import build\n",
    "from google_auth_oauthlib.flow import InstalledAppFlow\n",
    "from googleapiclient.http import MediaFileUpload\n",
    "import os\n",
    "\n",
    "# Definir el scope\n",
    "SCOPES = ['https://www.googleapis.com/auth/drive.file']\n",
    "CREDENTIALS_FILE = './credenciales/client_secret_714287611170-vgk4sfc7gqhg9monrjgc6hf66r74cqfj.apps.googleusercontent.com.json'\n",
    "\n",
    "def authenticate_gdrive():\n",
    "    flow = InstalledAppFlow.from_client_secrets_file(CREDENTIALS_FILE, SCOPES)\n",
    "    creds = flow.run_local_server(port=0)\n",
    "    return build('drive', 'v3', credentials=creds)\n",
    "\n",
    "def create_or_find_folder(service, folder_name, parent_id=None):\n",
    "    query = f\"mimeType='application/vnd.google-apps.folder' and name='{folder_name}'\"\n",
    "    if parent_id:\n",
    "        query += f\" and '{parent_id}' in parents\"\n",
    "    results = service.files().list(q=query, spaces='drive', fields=\"files(id, name)\").execute()\n",
    "    folders = results.get('files', [])\n",
    "\n",
    "    if not folders:\n",
    "        folder_metadata = {\n",
    "            'name': folder_name,\n",
    "            'mimeType': 'application/vnd.google-apps.folder',\n",
    "            'parents': [parent_id] if parent_id else []\n",
    "        }\n",
    "        folder = service.files().create(body=folder_metadata, fields='id').execute()\n",
    "        return folder.get('id')\n",
    "    return folders[0].get('id')\n",
    "\n",
    "\n",
    "service = authenticate_gdrive()"
   ]
  },
  {
   "cell_type": "markdown",
   "metadata": {},
   "source": [
    "### Guardar el objeto del \"servicio\""
   ]
  },
  {
   "cell_type": "code",
   "execution_count": 10,
   "metadata": {},
   "outputs": [],
   "source": [
    "import pickle\n",
    "# Guardar las credenciales en un archivo\n",
    "with open('token.pkl', 'wb') as token:\n",
    "    pickle.dump(service, token)"
   ]
  },
  {
   "cell_type": "markdown",
   "metadata": {},
   "source": [
    "### Compruba si el doc existe y sube solo documentos nuevos"
   ]
  },
  {
   "cell_type": "code",
   "execution_count": 4,
   "metadata": {},
   "outputs": [],
   "source": [
    "def file_exists(service, folder_id, file_name):\n",
    "    \"\"\"Check if a file exists in the specified Google Drive folder.\"\"\"\n",
    "    query = f\"'{folder_id}' in parents and name = '{file_name}'\"\n",
    "    results = service.files().list(q=query, spaces='drive', fields=\"files(id, name)\").execute()\n",
    "    files = results.get('files', [])\n",
    "    return files[0]['id'] if files else None\n",
    "\n",
    "def upload_files(service, folder_path, drive_folder_id):\n",
    "    \"\"\"Upload files to Google Drive, only if they do not already exist.\"\"\"\n",
    "    for filename in os.listdir(folder_path):\n",
    "        file_path = os.path.join(folder_path, filename)\n",
    "        if os.path.isfile(file_path):\n",
    "            # Check if the file already exists in Google Drive\n",
    "            existing_file_id = file_exists(service, drive_folder_id, filename)\n",
    "            if existing_file_id:\n",
    "                print(f'Skipping {filename}, already exists with File ID: {existing_file_id}')\n",
    "                continue  # Skip this file as it already exists\n",
    "\n",
    "            # If the file does not exist, upload it\n",
    "            file_metadata = {\n",
    "                'name': filename,\n",
    "                'parents': [drive_folder_id]\n",
    "            }\n",
    "            media = MediaFileUpload(file_path, resumable=True)\n",
    "            file = service.files().create(body=file_metadata, media_body=media, fields='id').execute()\n",
    "            print(f'Uploaded {filename} to Google Drive with File ID: {file.get(\"id\")}')\n"
   ]
  },
  {
   "cell_type": "markdown",
   "metadata": {},
   "source": [
    "### Función de subida de datos"
   ]
  },
  {
   "cell_type": "code",
   "execution_count": 5,
   "metadata": {},
   "outputs": [
    {
     "name": "stdout",
     "output_type": "stream",
     "text": [
      "Skipping 2024-05-15_noticias_economicas_internacionales.csv, already exists with File ID: 112lazUhYZnjg5Zv7JVMgvhPrsGGTkgWM\n",
      "Skipping 2024-05-14_noticias_economicas_nacionales.csv, already exists with File ID: 1C0Aj4n6nVQNhCodK6krdxrwGtVcfUXmv\n",
      "Skipping 2024-05-16_noticias_economicas_nacionales.csv, already exists with File ID: 1yAIOFU97TvI1ogbtE5CBrtZVDwqKKVW7\n",
      "Skipping 2024-05-16_noticias_economicas_internacionales.csv, already exists with File ID: 11XnDDENj0YKwhCtM_Q25iE7_tx_GcwZt\n",
      "Skipping 2024-05-13_noticias_economicas_nacionales.csv, already exists with File ID: 1cha7MQKdSFcUbXU-fqNITsNu1iRHiCPv\n",
      "Skipping 2024-05-13_noticias_economicas_internacionales.csv, already exists with File ID: 1lMM-otypwgsO2ImcgdHH8iP4ObxEpD6H\n",
      "Skipping 2024-05-14_noticias_economicas_internacionales.csv, already exists with File ID: 17S8s2IFH2iKsD9XxiOm-I5IqDcvDWBIK\n",
      "Skipping 2024-05-15_noticias_economicas_nacionales.csv, already exists with File ID: 15xYXzDu8Bp2w36tumANfvGg11-QDU9XP\n",
      "Uploaded clasificacion.csv to Google Drive with File ID: 1HICQu32ltRwTM54rJi3C2b3yVSlKLxdt\n"
     ]
    }
   ],
   "source": [
    "def main():\n",
    "    \n",
    "    local_folder_path = './datos'\n",
    "    drive_folder_name = 'tp_textminig/datos_csv'\n",
    "\n",
    "    # Encuentra o crea la carpeta en Drive\n",
    "    drive_folder_id = create_or_find_folder(service, drive_folder_name)\n",
    "\n",
    "    # Sube los archivos\n",
    "    upload_files(service, local_folder_path, drive_folder_id)\n",
    "\n",
    "if __name__ == '__main__':\n",
    "    main()"
   ]
  }
 ],
 "metadata": {
  "kernelspec": {
   "display_name": ".env_t01",
   "language": "python",
   "name": "python3"
  },
  "language_info": {
   "codemirror_mode": {
    "name": "ipython",
    "version": 3
   },
   "file_extension": ".py",
   "mimetype": "text/x-python",
   "name": "python",
   "nbconvert_exporter": "python",
   "pygments_lexer": "ipython3",
   "version": "3.10.12"
  }
 },
 "nbformat": 4,
 "nbformat_minor": 2
}
