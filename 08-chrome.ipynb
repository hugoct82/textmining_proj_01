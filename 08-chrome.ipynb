{
 "cells": [
  {
   "cell_type": "code",
   "execution_count": 1,
   "metadata": {},
   "outputs": [
    {
     "name": "stdout",
     "output_type": "stream",
     "text": [
      "Descargando desde https://storage.googleapis.com/chrome-for-testing-public/124.0.6367.201/linux64/chrome-linux64.zip...\n",
      "Descarga completa. Extrayendo...\n",
      "Extracción completada en /home/hugo/Documentos/text_mining/tp_textmining/chrome.\n",
      "Descargando desde https://storage.googleapis.com/chrome-for-testing-public/124.0.6367.201/linux64/chromedriver-linux64.zip...\n",
      "Descarga completa. Extrayendo...\n",
      "Extracción completada en /home/hugo/Documentos/text_mining/tp_textmining/chromedriver.\n"
     ]
    }
   ],
   "source": [
    "import requests\n",
    "from zipfile import ZipFile\n",
    "from io import BytesIO\n",
    "import os\n",
    "\n",
    "# URLs de los archivos ZIP para Chromium y ChromeDriver\n",
    "chrome_url = \"https://storage.googleapis.com/chrome-for-testing-public/124.0.6367.201/linux64/chrome-linux64.zip\"\n",
    "chromedriver_url = \"https://storage.googleapis.com/chrome-for-testing-public/124.0.6367.201/linux64/chromedriver-linux64.zip\"\n",
    "\n",
    "# Carpetas de destino para la extracción\n",
    "chrome_folder = \"/home/hugo/Documentos/text_mining/tp_textmining/chrome\"\n",
    "chromedriver_folder = \"/home/hugo/Documentos/text_mining/tp_textmining/chromedriver\"\n",
    "\n",
    "# Función para descargar y extraer archivos\n",
    "def download_and_extract(url, folder):\n",
    "    print(f\"Descargando desde {url}...\")\n",
    "    response = requests.get(url)\n",
    "    if response.status_code == 200:\n",
    "        print(\"Descarga completa. Extrayendo...\")\n",
    "        with ZipFile(BytesIO(response.content)) as zip_ref:\n",
    "            zip_ref.extractall(folder)\n",
    "        print(f\"Extracción completada en {folder}.\")\n",
    "    else:\n",
    "        print(f\"Error al descargar el archivo desde {url}. Código de estado HTTP: {response.status_code}\")\n",
    "\n",
    "# Crear carpetas si no existen\n",
    "if not os.path.exists(chrome_folder):\n",
    "    os.makedirs(chrome_folder)\n",
    "if not os.path.exists(chromedriver_folder):\n",
    "    os.makedirs(chromedriver_folder)\n",
    "\n",
    "# Descargar y extraer archivos\n",
    "download_and_extract(chrome_url, chrome_folder)\n",
    "download_and_extract(chromedriver_url, chromedriver_folder)\n",
    "\n",
    "\n",
    "\n"
   ]
  }
 ],
 "metadata": {
  "kernelspec": {
   "display_name": ".env_t01",
   "language": "python",
   "name": "python3"
  },
  "language_info": {
   "codemirror_mode": {
    "name": "ipython",
    "version": 3
   },
   "file_extension": ".py",
   "mimetype": "text/x-python",
   "name": "python",
   "nbconvert_exporter": "python",
   "pygments_lexer": "ipython3",
   "version": "3.10.12"
  }
 },
 "nbformat": 4,
 "nbformat_minor": 2
}
